{
 "cells": [
  {
   "cell_type": "code",
   "execution_count": null,
   "metadata": {
    "collapsed": true
   },
   "outputs": [],
   "source": [
    "import carla\n",
    "import random\n",
    "import numpy as np\n",
    "from agents.navigation.global_route_planner import GlobalRoutePlanner  # copied PythonAPI/carla/agents to cwd"
   ]
  },
  {
   "cell_type": "code",
   "execution_count": null,
   "outputs": [],
   "source": [
    "client = carla.Client('localhost', 2000)\n",
    "world = client.get_world()"
   ],
   "metadata": {
    "collapsed": false
   }
  },
  {
   "cell_type": "code",
   "execution_count": null,
   "outputs": [],
   "source": [
    "client.load_world('Town03')"
   ],
   "metadata": {
    "collapsed": false
   }
  },
  {
   "cell_type": "code",
   "execution_count": null,
   "outputs": [],
   "source": [
    "weather = world.get_weather()\n",
    "world.set_weather(weather.ClearNight)"
   ],
   "metadata": {
    "collapsed": false
   }
  },
  {
   "cell_type": "code",
   "execution_count": null,
   "outputs": [],
   "source": [
    "startPoint = carla.Location(x=200, y=-6, z=1)\n",
    "endPoint = carla.Location(x=142.1, y=64, z=1)"
   ],
   "metadata": {
    "collapsed": false
   }
  },
  {
   "cell_type": "code",
   "execution_count": null,
   "outputs": [],
   "source": [
    "spectator = world.get_spectator()\n",
    "spectator.set_transform(carla.Transform(carla.Location(x=34.55, y=2.328650, z=19.576859), carla.Rotation(pitch=-33.152092, yaw=-142.789932, roll=0.000021)))"
   ],
   "metadata": {
    "collapsed": false
   }
  },
  {
   "cell_type": "code",
   "execution_count": null,
   "outputs": [],
   "source": [
    "rp = GlobalRoutePlanner(world.get_map(), sampling_resolution=3)\n",
    "route = rp.trace_route(startPoint, endPoint)"
   ],
   "metadata": {
    "collapsed": false
   }
  },
  {
   "cell_type": "code",
   "execution_count": null,
   "outputs": [],
   "source": [
    "T = 10\n",
    "print(f\"Size of graph |n| = {len(rp._graph.nodes)}, |e| = {len(rp._graph.edges)}\")\n",
    "for node_idx in rp._graph.nodes:\n",
    "    n_idx = rp._graph.nodes[node_idx][\"vertex\"]\n",
    "    n_loc = carla.Location(*n_idx)\n",
    "    world.debug.draw_point(n_loc, color=carla.Color(r=255), life_time=T)\n",
    "for e_idx in rp._graph.edges:\n",
    "    edge_path = rp._graph.edges[e_idx][\"path\"]\n",
    "    for wp1, wp2 in zip(edge_path[:-1], edge_path[1:]):\n",
    "        p_1 = carla.Location(wp1.transform.location.x, wp1.transform.location.y, wp1.transform.location.z + 0.5)\n",
    "        p_2 = carla.Location(wp2.transform.location.x, wp2.transform.location.y, wp2.transform.location.z + 0.5)\n",
    "        world.debug.draw_line(p_1, p_2, thickness=0.1, life_time=T, color=carla.Color(b=255))\n",
    "\n",
    "# T = 10  # Time before line dissapears, negative for never\n",
    "for pi, pj in zip(route[:-1], route[1:]):\n",
    "    pi_loc = pi[0].transform.location\n",
    "    pj_loc = pj[0].transform.location\n",
    "    pi_loc.z = 0.5\n",
    "    pj_loc.z = 0.5\n",
    "    world.debug.draw_line(pi_loc, pj_loc, thickness=0.2,\n",
    "                          life_time=T, color=carla.Color(r=255))\n",
    "    pi_loc.z = 0.6\n",
    "    world.debug.draw_point(pi_loc, color=carla.Color(r=255), life_time=T)"
   ],
   "metadata": {
    "collapsed": false
   }
  }
 ],
 "metadata": {
  "kernelspec": {
   "display_name": "Python 3",
   "language": "python",
   "name": "python3"
  },
  "language_info": {
   "codemirror_mode": {
    "name": "ipython",
    "version": 2
   },
   "file_extension": ".py",
   "mimetype": "text/x-python",
   "name": "python",
   "nbconvert_exporter": "python",
   "pygments_lexer": "ipython2",
   "version": "2.7.6"
  }
 },
 "nbformat": 4,
 "nbformat_minor": 0
}
