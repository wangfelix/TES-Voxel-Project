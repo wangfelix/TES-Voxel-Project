{
 "cells": [
  {
   "attachments": {},
   "cell_type": "markdown",
   "metadata": {},
   "source": [
    "Gleiches Szenario wie bei ErstesSzenario aber hier haben wir 6 Kamera Sensoren installiert auf das Auto."
   ]
  },
  {
   "cell_type": "code",
   "execution_count": null,
   "metadata": {},
   "outputs": [],
   "source": [
    "%pip install carla"
   ]
  },
  {
   "cell_type": "code",
   "execution_count": null,
   "metadata": {},
   "outputs": [],
   "source": [
    "import carla\n",
    "import math\n",
    "import random\n",
    "import time\n",
    "import numpy as np\n",
    "import cv2\n",
    "import open3d as o3d \n",
    "from matplotlib import cm "
   ]
  },
  {
   "cell_type": "code",
   "execution_count": null,
   "metadata": {},
   "outputs": [],
   "source": [
    "# Connect the client and set up bp library and spawn points\n",
    "client = carla.Client('localhost', 2000)\n",
    "world = client.get_world()\n",
    "bp_lib = world.get_blueprint_library()\n",
    "spawn_points = world.get_map().get_spawn_points()"
   ]
  },
  {
   "cell_type": "code",
   "execution_count": null,
   "metadata": {},
   "outputs": [],
   "source": [
    "#Load a World\n",
    "client.load_world('Town05')"
   ]
  },
  {
   "cell_type": "code",
   "execution_count": null,
   "metadata": {},
   "outputs": [],
   "source": [
    "#Add the ego_vehicle\n",
    "vehicle_bp_benz= bp_lib.find('vehicle.mercedes.coupe_2020')\n",
    "vehicle_bp_benz.set_attribute('color', '255,255,255')\n",
    "ego_vehicle = world.spawn_actor(vehicle_bp_benz, spawn_points[0])"
   ]
  },
  {
   "cell_type": "code",
   "execution_count": null,
   "metadata": {},
   "outputs": [],
   "source": [
    "#Move spectator behind to view\n",
    "spectator = world.get_spectator()\n",
    "transform = carla.Transform(ego_vehicle.get_transform().transform(carla.Location(x=-6, z=2.0)), ego_vehicle.get_transform().rotation)\n",
    "spectator.set_transform(transform)"
   ]
  },
  {
   "cell_type": "code",
   "execution_count": null,
   "metadata": {},
   "outputs": [],
   "source": [
    "#Security Auto vor dem ego_vehicle\n",
    "vehicle_bp_benz.set_attribute('color', '0,0,0')\n",
    "transform = carla.Transform(ego_vehicle.get_transform().transform(carla.Location(x=6, z=0.5)), ego_vehicle.get_transform().rotation)\n",
    "security_vehicle_front = world.spawn_actor(vehicle_bp_benz, transform)"
   ]
  },
  {
   "cell_type": "code",
   "execution_count": null,
   "metadata": {},
   "outputs": [],
   "source": [
    "#Security Auto Hinter dem ego_vehicle\n",
    "vehicle_bp_benz.set_attribute('color', '0,0,0')\n",
    "transform = carla.Transform(ego_vehicle.get_transform().transform(carla.Location(x=-6, z=0.5)), ego_vehicle.get_transform().rotation)\n",
    "security_vehicle_behind = world.spawn_actor(vehicle_bp_benz, transform)"
   ]
  },
  {
   "cell_type": "code",
   "execution_count": null,
   "metadata": {},
   "outputs": [],
   "source": [
    "#Wir erstellen 30 zufällige Autos\n",
    "vehicle_bp = bp_lib.filter(\"*vehicle*\")\n",
    "\n",
    "for i in range(30):\n",
    "\n",
    "    npc_vehicle = world.try_spawn_actor(random.choice(vehicle_bp), random.choice(spawn_points))"
   ]
  },
  {
   "cell_type": "code",
   "execution_count": null,
   "metadata": {},
   "outputs": [],
   "source": [
    "# Set initial camera translation\n",
    "camera_init_trans = carla.Transform(carla.Location(z=2))\n",
    "\n",
    "# Add one of each type of camera\n",
    "camera_bp = bp_lib.find('sensor.camera.rgb') \n",
    "camera = world.spawn_actor(camera_bp, camera_init_trans, attach_to=ego_vehicle)\n",
    "\n",
    "sem_camera_bp = bp_lib.find('sensor.camera.semantic_segmentation') \n",
    "sem_camera = world.spawn_actor(sem_camera_bp, camera_init_trans, attach_to=ego_vehicle)\n",
    "\n",
    "inst_camera_bp = bp_lib.find('sensor.camera.instance_segmentation') \n",
    "inst_camera = world.spawn_actor(inst_camera_bp, camera_init_trans, attach_to=ego_vehicle)\n",
    "\n",
    "depth_camera_bp = bp_lib.find('sensor.camera.depth') \n",
    "depth_camera = world.spawn_actor(depth_camera_bp, camera_init_trans, attach_to=ego_vehicle)\n",
    "\n",
    "dvs_camera_bp = bp_lib.find('sensor.camera.dvs') \n",
    "dvs_camera = world.spawn_actor(dvs_camera_bp, camera_init_trans, attach_to=ego_vehicle)\n",
    "\n",
    "opt_camera_bp = bp_lib.find('sensor.camera.optical_flow') \n",
    "opt_camera = world.spawn_actor(opt_camera_bp, camera_init_trans, attach_to=ego_vehicle)"
   ]
  },
  {
   "cell_type": "code",
   "execution_count": null,
   "metadata": {},
   "outputs": [],
   "source": [
    "# Define respective callbacks\n",
    "def rgb_callback(image, data_dict):\n",
    "    data_dict['rgb_image'] = np.reshape(np.copy(image.raw_data), (image.height, image.width, 4))\n",
    "    \n",
    "def sem_callback(image, data_dict):\n",
    "    image.convert(carla.ColorConverter.CityScapesPalette)\n",
    "    data_dict['sem_image'] = np.reshape(np.copy(image.raw_data), (image.height, image.width, 4))\n",
    "\n",
    "def inst_callback(image, data_dict):\n",
    "    data_dict['inst_image'] = np.reshape(np.copy(image.raw_data), (image.height, image.width, 4))\n",
    "\n",
    "def depth_callback(image, data_dict):\n",
    "    image.convert(carla.ColorConverter.LogarithmicDepth)\n",
    "    data_dict['depth_image'] = np.reshape(np.copy(image.raw_data), (image.height, image.width, 4))\n",
    "    \n",
    "def opt_callback(data, data_dict):\n",
    "    image = data.get_color_coded_flow()\n",
    "    img = np.reshape(np.copy(image.raw_data), (image.height, image.width, 4))\n",
    "    img[:,:,3] = 255\n",
    "    data_dict['opt_image'] = img\n",
    "    \n",
    "def dvs_callback(data, data_dict):\n",
    "    dvs_events = np.frombuffer(data.raw_data, dtype=np.dtype([\n",
    "                ('x', np.uint16), ('y', np.uint16), ('t', np.int64), ('pol', np.bool)]))\n",
    "    data_dict['dvs_image'] = np.zeros((data.height, data.width, 4), dtype=np.uint8)\n",
    "    dvs_img = np.zeros((data.height, data.width, 3), dtype=np.uint8)\n",
    "    dvs_img[dvs_events[:]['y'], dvs_events[:]['x'], dvs_events[:]['pol'] * 2] = 255\n",
    "    data_dict['dvs_image'][:,:,0:3] = dvs_img\n",
    "    "
   ]
  },
  {
   "cell_type": "code",
   "execution_count": null,
   "metadata": {},
   "outputs": [],
   "source": [
    "# Set traffic in motion\n",
    "for vehicle in world.get_actors().filter('*vehicle*'): \n",
    "    vehicle.set_autopilot(True) "
   ]
  },
  {
   "cell_type": "code",
   "execution_count": null,
   "metadata": {},
   "outputs": [],
   "source": [
    "image_w = camera_bp.get_attribute(\"image_size_x\").as_int()\n",
    "image_h = camera_bp.get_attribute(\"image_size_y\").as_int()\n",
    "\n",
    "\n",
    "sensor_data = {'rgb_image': np.zeros((image_h, image_w, 4)),\n",
    "               'sem_image': np.zeros((image_h, image_w, 4)),\n",
    "               'depth_image': np.zeros((image_h, image_w, 4)),\n",
    "               'dvs_image': np.zeros((image_h, image_w, 4)),\n",
    "               'opt_image': np.zeros((image_h, image_w, 4)), \n",
    "               'inst_image': np.zeros((image_h, image_w, 4))}\n",
    "\n",
    "# Set sensors recording\n",
    "camera.listen(lambda image: rgb_callback(image, sensor_data))\n",
    "sem_camera.listen(lambda image: sem_callback(image, sensor_data))\n",
    "inst_camera.listen(lambda image: inst_callback(image, sensor_data))\n",
    "depth_camera.listen(lambda image: depth_callback(image, sensor_data))\n",
    "dvs_camera.listen(lambda image: dvs_callback(image, sensor_data))\n",
    "opt_camera.listen(lambda image: opt_callback(image, sensor_data))\n",
    "\n",
    "\n",
    "# OpenCV named window for display\n",
    "cv2.namedWindow('RGB Camera', cv2.WINDOW_AUTOSIZE)\n",
    "cv2.namedWindow('Sem Camera', cv2.WINDOW_AUTOSIZE)\n",
    "cv2.namedWindow('Depth Camera', cv2.WINDOW_AUTOSIZE)\n",
    "cv2.namedWindow('DVS Camera', cv2.WINDOW_AUTOSIZE)\n",
    "cv2.namedWindow('OPT Camera', cv2.WINDOW_AUTOSIZE)\n",
    "cv2.namedWindow('Inst Camera', cv2.WINDOW_AUTOSIZE)\n",
    "\n",
    "# Dispaly with imshow\n",
    "cv2.imshow('RGB Camera', sensor_data['rgb_image'])\n",
    "cv2.imshow('Sem Camera', sensor_data['sem_image'])\n",
    "cv2.imshow('Depth Camera', sensor_data['inst_image'])\n",
    "cv2.imshow('DVS Camera', sensor_data['depth_image'])\n",
    "cv2.imshow('OPT Camera', sensor_data['dvs_image'])\n",
    "cv2.imshow('Inst Camera', sensor_data['opt_image'])\n",
    "\n",
    "cv2.waitKey(1)\n",
    "\n",
    "\n",
    "# Indefinite while loop\n",
    "while True:\n",
    "    cv2.imshow('RGB Camera', sensor_data['rgb_image'])\n",
    "    cv2.imshow('Sem Camera', sensor_data['sem_image'])\n",
    "    cv2.imshow('Depth Camera', sensor_data['inst_image'])\n",
    "    cv2.imshow('DVS Camera', sensor_data['depth_image'])\n",
    "    cv2.imshow('OPT Camera', sensor_data['dvs_image'])\n",
    "    cv2.imshow('Inst Camera', sensor_data['opt_image'])\n",
    "\n",
    "    # Break loop if user presses q\n",
    "    if cv2.waitKey(1) == ord('q'):\n",
    "        break\n",
    "\n",
    "# Stop sensors and destroy OpenCV window\n",
    "camera.stop()\n",
    "sem_camera.stop()\n",
    "inst_camera.stop()\n",
    "depth_camera.stop()\n",
    "dvs_camera.stop()\n",
    "opt_camera.stop()\n",
    "cv2.destroyAllWindows()\n",
    "    \n",
    "       \n",
    "    \n",
    "    \n"
   ]
  }
 ],
 "metadata": {
  "kernelspec": {
   "display_name": "Python 3",
   "language": "python",
   "name": "python3"
  },
  "language_info": {
   "codemirror_mode": {
    "name": "ipython",
    "version": 3
   },
   "file_extension": ".py",
   "mimetype": "text/x-python",
   "name": "python",
   "nbconvert_exporter": "python",
   "pygments_lexer": "ipython3",
   "version": "3.8.10 (default, Nov 14 2022, 12:59:47) \n[GCC 9.4.0]"
  },
  "orig_nbformat": 4,
  "vscode": {
   "interpreter": {
    "hash": "e7370f93d1d0cde622a1f8e1c04877d8463912d04d973331ad4851f04de6915a"
   }
  }
 },
 "nbformat": 4,
 "nbformat_minor": 2
}
