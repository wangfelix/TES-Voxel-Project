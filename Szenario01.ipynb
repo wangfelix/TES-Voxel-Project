{
 "cells": [
  {
   "attachments": {},
   "cell_type": "markdown",
   "metadata": {},
   "source": [
    "In diesem Szenario wird in Town05 (Spawn_point(2)) randomisierte statische Objekte auf der Straße plaziert."
   ]
  },
  {
   "cell_type": "code",
   "execution_count": null,
   "metadata": {},
   "outputs": [],
   "source": [
    "%pip install carla"
   ]
  },
  {
   "cell_type": "code",
   "execution_count": null,
   "metadata": {},
   "outputs": [],
   "source": [
    "import carla\n",
    "import math\n",
    "import random\n",
    "import time\n",
    "import numpy as np\n",
    "import cv2\n",
    "import open3d as o3d \n",
    "from matplotlib import cm "
   ]
  },
  {
   "cell_type": "code",
   "execution_count": null,
   "metadata": {},
   "outputs": [],
   "source": [
    "# Connect the client and set up bp library and spawn points\n",
    "client = carla.Client('localhost', 2000)\n",
    "world = client.get_world()\n",
    "bp_lib = world.get_blueprint_library()\n",
    "spawn_points = world.get_map().get_spawn_points()\n",
    "\n",
    "#Load a World\n",
    "client.load_world('Town05')\n"
   ]
  },
  {
   "cell_type": "code",
   "execution_count": null,
   "metadata": {},
   "outputs": [],
   "source": [
    "#Add the ego_vehicle\n",
    "vehicle_bp_benz= bp_lib.find('vehicle.mercedes.coupe_2020')\n",
    "vehicle_bp_benz.set_attribute('color', '255,255,255')\n",
    "ego_vehicle = world.spawn_actor(vehicle_bp_benz, spawn_points[31])"
   ]
  },
  {
   "cell_type": "code",
   "execution_count": null,
   "metadata": {},
   "outputs": [],
   "source": [
    "#Move spectator behind to view\n",
    "spectator = world.get_spectator()\n",
    "transform = carla.Transform(ego_vehicle.get_transform().transform(carla.Location(x=-6, z=2.0)), ego_vehicle.get_transform().rotation)\n",
    "spectator.set_transform(transform)"
   ]
  },
  {
   "cell_type": "code",
   "execution_count": null,
   "metadata": {},
   "outputs": [],
   "source": [
    "#Iterate this cell to find desired camera location\n",
    "camera_bp = bp_lib.find('sensor.camera.rgb') \n",
    "camera_init_trans = carla.Transform(carla.Location(z=2)) #Change this to move camera\n",
    "camera = world.spawn_actor(camera_bp, camera_init_trans, attach_to=ego_vehicle)\n",
    "\n",
    "#time.sleep(0.2)\n",
    "#camera.destroy()"
   ]
  },
  {
   "cell_type": "code",
   "execution_count": null,
   "metadata": {},
   "outputs": [],
   "source": [
    "def spawn_anomaly_ahead(self, distance):\n",
    "    transform = carla.Transform(self.get_transform().transform(carla.Location(x = distance)))\n",
    "    spawn_anomaly(transform)\n",
    "\n",
    "def spawn_anomaly_freePosition(self, distance_x, distance_y, distance_z):\n",
    "    transform = carla.Transform(self.get_transform().transform(carla.Location(x = distance_x, y = distance_y, z = distance_z)))\n",
    "    spawn_anomaly(transform)\n",
    "\n",
    "def spawn_anomaly(transform):\n",
    "    bp_static = world.get_blueprint_library().filter('static.prop.*')\n",
    "    anomaly_object = random.choice(bp_static)\n",
    "    player = world.try_spawn_actor(anomaly_object,transform)\n",
    "    \n",
    "\n"
   ]
  },
  {
   "cell_type": "code",
   "execution_count": null,
   "metadata": {},
   "outputs": [],
   "source": [
    "spawn_anomaly_freePosition(ego_vehicle, 40, 0, 0)"
   ]
  },
  {
   "cell_type": "code",
   "execution_count": null,
   "metadata": {},
   "outputs": [],
   "source": [
    "spawn_anomaly_freePosition(ego_vehicle, 20, -5, 0)"
   ]
  },
  {
   "cell_type": "code",
   "execution_count": null,
   "metadata": {},
   "outputs": [],
   "source": [
    "spawn_anomaly_freePosition(ego_vehicle, 30, 2, 0)"
   ]
  },
  {
   "cell_type": "code",
   "execution_count": null,
   "metadata": {},
   "outputs": [],
   "source": [
    "# Spawn camera\n",
    "camera_init_trans = carla.Transform(carla.Location(z=2))\n",
    "camera = world.spawn_actor(camera_bp, camera_init_trans, attach_to=ego_vehicle)\n",
    "cameraDisk = world.spawn_actor(camera_bp, camera_init_trans, attach_to=ego_vehicle)\n",
    "# Callback stores sensor data in a dictionary for use outside callback                         \n",
    "def camera_callback(image, data_dict):\n",
    "    data_dict['image'] = np.reshape(np.copy(image.raw_data), (image.height, image.width, 4))\n",
    "\n",
    "# Get gamera dimensions and initialise dictionary                       \n",
    "image_w = camera_bp.get_attribute(\"image_size_x\").as_int()\n",
    "image_h = camera_bp.get_attribute(\"image_size_y\").as_int()\n",
    "camera_data = {'image': np.zeros((image_h, image_w, 4))}\n",
    "\n",
    "# Start camera recording\n",
    "camera.listen(lambda image: camera_callback(image, camera_data))\n",
    "cameraDisk.listen(lambda image: image.save_to_disk('outONE/%06d.png' % image.frame))"
   ]
  },
  {
   "cell_type": "code",
   "execution_count": null,
   "metadata": {},
   "outputs": [],
   "source": [
    "# Set traffic in motion\n",
    "for vehicle in world.get_actors().filter('*vehicle*'): \n",
    "    vehicle.set_autopilot(True) "
   ]
  },
  {
   "cell_type": "code",
   "execution_count": null,
   "metadata": {},
   "outputs": [],
   "source": [
    "# OpenCV named window for rendering\n",
    "cv2.namedWindow('RGB Camera', cv2.WINDOW_AUTOSIZE)\n",
    "cv2.imshow('RGB Camera', camera_data['image'])\n",
    "cv2.waitKey(1)\n",
    "\n",
    "# Close OpenCV window when finished\n",
    "camera.stop()\n",
    "cv2.destroyAllWindows()\n",
    "cv2.stop()"
   ]
  }
 ],
 "metadata": {
  "kernelspec": {
   "display_name": "Python 3",
   "language": "python",
   "name": "python3"
  },
  "language_info": {
   "codemirror_mode": {
    "name": "ipython",
    "version": 3
   },
   "file_extension": ".py",
   "mimetype": "text/x-python",
   "name": "python",
   "nbconvert_exporter": "python",
   "pygments_lexer": "ipython3",
   "version": "3.8.10 (default, Nov 14 2022, 12:59:47) \n[GCC 9.4.0]"
  },
  "orig_nbformat": 4,
  "vscode": {
   "interpreter": {
    "hash": "e7370f93d1d0cde622a1f8e1c04877d8463912d04d973331ad4851f04de6915a"
   }
  }
 },
 "nbformat": 4,
 "nbformat_minor": 2
}
