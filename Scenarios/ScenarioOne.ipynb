{
 "cells": [
  {
   "cell_type": "code",
   "execution_count": null,
   "outputs": [],
   "source": [
    "import carla\n",
    "import random"
   ],
   "metadata": {
    "collapsed": false
   }
  },
  {
   "cell_type": "code",
   "execution_count": null,
   "outputs": [],
   "source": [
    "# Connect to the client and retrieve the world object\n",
    "client = carla.Client('localhost', 2000)\n",
    "world = client.get_world()"
   ],
   "metadata": {
    "collapsed": false
   }
  },
  {
   "cell_type": "code",
   "execution_count": null,
   "outputs": [],
   "source": [
    "# Set up the simulator in synchronous mode\n",
    "settings = world.get_settings()\n",
    "settings.synchronous_mode = True # Enables synchronous mode\n",
    "settings.fixed_delta_seconds = 0.05\n",
    "world.apply_settings(settings)\n",
    "\n",
    "# Set up the TM in synchronous mode\n",
    "traffic_manager = client.get_trafficmanager()\n",
    "traffic_manager.set_synchronous_mode(True)\n",
    "\n",
    "# Set a seed so behaviour can be repeated if necessary\n",
    "traffic_manager.set_random_device_seed(0)\n",
    "random.seed(0)\n",
    "\n",
    "# We will aslo set up the spectator so we can see what we do\n",
    "spectator = world.get_spectator()"
   ],
   "metadata": {
    "collapsed": false
   }
  },
  {
   "cell_type": "code",
   "execution_count": null,
   "outputs": [],
   "source": [
    "spawn_points = world.get_map().get_spawn_points()\n",
    "# Draw the spawn point locations as numbers in the map\n",
    "for i, spawn_point in enumerate(spawn_points):\n",
    "    world.debug.draw_string(spawn_point.location, str(i), life_time=50)"
   ],
   "metadata": {
    "collapsed": false
   }
  },
  {
   "cell_type": "code",
   "execution_count": null,
   "outputs": [],
   "source": [
    "# Select some models from the blueprint library\n",
    "models = ['dodge', 'audi', 'model3', 'mini', 'mustang', 'lincoln', 'prius', 'nissan', 'crown', 'impala']\n",
    "blueprints = []\n",
    "for vehicle in world.get_blueprint_library().filter('*vehicle*'):\n",
    "    if any(model in vehicle.id for model in models):\n",
    "        blueprints.append(vehicle)"
   ],
   "metadata": {
    "collapsed": false
   }
  },
  {
   "cell_type": "code",
   "execution_count": null,
   "outputs": [],
   "source": [
    "# Route 1\n",
    "spawn_point_1 =  spawn_points[32]\n",
    "# Create route 1 from the chosen spawn points\n",
    "route_1_indices = [129, 28, 124, 33, 97, 119, 58, 154, 147]\n",
    "route_1 = []\n",
    "for ind in route_1_indices:\n",
    "    route_1.append(spawn_points[ind].location)\n",
    "\n",
    "# Route 2\n",
    "spawn_point_2 =  spawn_points[149]\n",
    "# Create route 2 from the chosen spawn points\n",
    "route_2_indices = [21, 76, 38, 34, 90, 3]\n",
    "route_2 = []\n",
    "for ind in route_2_indices:\n",
    "    route_2.append(spawn_points[ind].location)\n",
    "\n",
    "# Now let's print them in the map so we can see our routes\n",
    "world.debug.draw_string(spawn_point_1.location, 'Spawn point 1', life_time=30, color=carla.Color(255,0,0))\n",
    "world.debug.draw_string(spawn_point_2.location, 'Spawn point 2', life_time=30, color=carla.Color(0,0,255))\n",
    "\n",
    "for ind in route_1_indices:\n",
    "    spawn_points[ind].location\n",
    "    world.debug.draw_string(spawn_points[ind].location, str(ind), life_time=60, color=carla.Color(255,0,0))\n",
    "\n",
    "for ind in route_2_indices:\n",
    "    spawn_points[ind].location\n",
    "    world.debug.draw_string(spawn_points[ind].location, str(ind), life_time=60, color=carla.Color(0,0,255))"
   ],
   "metadata": {
    "collapsed": false
   }
  },
  {
   "cell_type": "code",
   "execution_count": null,
   "outputs": [],
   "source": [
    "# Set delay to create gap between spawn times\n",
    "spawn_delay = 20\n",
    "counter = spawn_delay\n",
    "\n",
    "# Set max vehicles (set smaller for low hardward spec)\n",
    "max_vehicles = 50\n",
    "# Alternate between spawn points\n",
    "alt = False\n",
    "\n",
    "spawn_points = world.get_map().get_spawn_points()\n",
    "while True:\n",
    "    world.tick()\n",
    "\n",
    "    n_vehicles = len(world.get_actors().filter('*vehicle*'))\n",
    "    vehicle_bp = random.choice(blueprints)\n",
    "\n",
    "    # Spawn vehicle only after delay\n",
    "    if counter == spawn_delay and n_vehicles < max_vehicles:\n",
    "        # Alternate spawn points\n",
    "        if alt:\n",
    "            vehicle = world.try_spawn_actor(vehicle_bp, spawn_point_1)\n",
    "        else:\n",
    "            vehicle = world.try_spawn_actor(vehicle_bp, spawn_point_2)\n",
    "\n",
    "        if vehicle: # IF vehicle is succesfully spawned\n",
    "            vehicle.set_autopilot(True) # Give TM control over vehicle\n",
    "\n",
    "            # Set parameters of TM vehicle control, we don't want lane changes\n",
    "            traffic_manager.update_vehicle_lights(vehicle, True)\n",
    "            traffic_manager.random_left_lanechange_percentage(vehicle, 0)\n",
    "            traffic_manager.random_right_lanechange_percentage(vehicle, 0)\n",
    "            traffic_manager.auto_lane_change(vehicle, False)\n",
    "\n",
    "            # Alternate between routes\n",
    "            if alt:\n",
    "                traffic_manager.set_path(vehicle, route_1)\n",
    "                alt = False\n",
    "            else:\n",
    "                traffic_manager.set_path(vehicle, route_2)\n",
    "                alt = True\n",
    "\n",
    "            vehicle = None\n",
    "\n",
    "        counter -= 1\n",
    "    elif counter > 0:\n",
    "        counter -= 1\n",
    "    elif counter == 0:\n",
    "        counter = spawn_delay\n"
   ],
   "metadata": {
    "collapsed": false
   }
  }
 ],
 "metadata": {
  "kernelspec": {
   "display_name": "Python 3",
   "language": "python",
   "name": "python3"
  },
  "language_info": {
   "codemirror_mode": {
    "name": "ipython",
    "version": 2
   },
   "file_extension": ".py",
   "mimetype": "text/x-python",
   "name": "python",
   "nbconvert_exporter": "python",
   "pygments_lexer": "ipython2",
   "version": "2.7.6"
  }
 },
 "nbformat": 4,
 "nbformat_minor": 0
}
