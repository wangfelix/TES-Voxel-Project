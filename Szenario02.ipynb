{
 "cells": [
  {
   "attachments": {},
   "cell_type": "markdown",
   "metadata": {},
   "source": [
    "In diesem Szenario02 werden drei Fußgänger auf die Straße gespawnt. Sie überqueren die Straße von rechts nach links.\n",
    "Die einzelnen Fußgänger sind auf unterschiedlichen Positionen und besitzten unterschiedliche Geschwindigkeiten.\n",
    "Das Auto ist auf Autopilot gestellt. "
   ]
  },
  {
   "cell_type": "code",
   "execution_count": null,
   "metadata": {},
   "outputs": [],
   "source": [
    "%pip install carla"
   ]
  },
  {
   "cell_type": "code",
   "execution_count": null,
   "metadata": {},
   "outputs": [],
   "source": [
    "import carla\n",
    "import math\n",
    "import random\n",
    "import time\n",
    "import numpy as np\n",
    "import cv2\n",
    "import open3d as o3d \n",
    "from matplotlib import cm "
   ]
  },
  {
   "cell_type": "code",
   "execution_count": null,
   "metadata": {},
   "outputs": [],
   "source": [
    "# Connect the client and set up bp library and spawn points\n",
    "client = carla.Client('localhost', 2000)\n",
    "world = client.get_world()\n",
    "bp_lib = world.get_blueprint_library()\n",
    "spawn_points = world.get_map().get_spawn_points()\n",
    "\n",
    "#Load a World\n",
    "client.load_world('Town05')\n"
   ]
  },
  {
   "cell_type": "code",
   "execution_count": null,
   "metadata": {},
   "outputs": [],
   "source": [
    "#Add the ego_vehicle\n",
    "vehicle_bp_benz= bp_lib.find('vehicle.mercedes.coupe_2020')\n",
    "vehicle_bp_benz.set_attribute('color', '255,255,255')\n",
    "ego_vehicle = world.spawn_actor(vehicle_bp_benz, spawn_points[2])"
   ]
  },
  {
   "cell_type": "code",
   "execution_count": null,
   "metadata": {},
   "outputs": [],
   "source": [
    "#Move spectator behind to view\n",
    "spectator = world.get_spectator()\n",
    "transform = carla.Transform(ego_vehicle.get_transform().transform(carla.Location(x=-6, z=2.0)), ego_vehicle.get_transform().rotation)\n",
    "spectator.set_transform(transform)"
   ]
  },
  {
   "cell_type": "code",
   "execution_count": null,
   "metadata": {},
   "outputs": [],
   "source": [
    "#Iterate this cell to find desired camera location\n",
    "camera_bp = bp_lib.find('sensor.camera.rgb') \n",
    "camera_init_trans = carla.Transform(carla.Location(z=2)) #Change this to move camera\n",
    "camera = world.spawn_actor(camera_bp, camera_init_trans, attach_to=ego_vehicle)\n",
    "\n",
    "#time.sleep(0.2)\n",
    "#camera.destroy()"
   ]
  },
  {
   "cell_type": "code",
   "execution_count": null,
   "metadata": {},
   "outputs": [],
   "source": [
    "#Mit KI, nicht so nice\n",
    "\n",
    "def spawn_pedestrian_freePosition(self, distance_x, distance_y):\n",
    "    transform = carla.Transform(self.get_transform().transform(carla.Location(x = distance_x, y = distance_y, z = 1)))\n",
    "    spawn_pedestrian(transform)\n",
    "\n",
    "def spawn_pedestrian(transform):\n",
    "    bp_walker = world.get_blueprint_library().filter('walker.pedestrian.*')\n",
    "    bp_walker_controller = world.get_blueprint_library().find('controller.ai.walker')\n",
    "\n",
    "    walker_object = random.choice(bp_walker)\n",
    "    actor = world.try_spawn_actor(walker_object, transform)   \n",
    "    world.wait_for_tick()  #to know if the player exist in the world \n",
    "\n",
    "    #Das brauchen wir nicht. Wir müssen es ohne der AI machen\n",
    "    controller = world.spawn_actor(bp_walker_controller, carla.Transform(), actor) #carla.Transform() nicht so wichtig\n",
    "    world.wait_for_tick()\n",
    "\n",
    "    controller.start()\n",
    "    controller.go_to_location(world.get_random_location_from_navigation)\n",
    "\n",
    "\n"
   ]
  },
  {
   "cell_type": "code",
   "execution_count": null,
   "metadata": {},
   "outputs": [],
   "source": [
    "# Mit der Methode kann man Fußgänger beliebig in Abhängigkeit der Position des Autos platzieren \n",
    "def spawn_pedestrian_freePosition(self, distance_x, distance_y):\n",
    "    transform = carla.Transform(self.get_transform().transform(carla.Location(x = distance_x, y = distance_y, z = 1)))\n",
    "    spawn_pedestrian(transform)\n",
    "\n",
    "# Die Methode ist wirklich zuständig für das Spawnen des Fußgängers. Man kann die Geschwindigkeit und die Richtung ändern.\n",
    "def spawn_pedestrian(transform):\n",
    "    bp_walker = world.get_blueprint_library().filter('walker.pedestrian.*')\n",
    "\n",
    "    walker_object = random.choice(bp_walker)\n",
    "    actor = world.try_spawn_actor(walker_object, transform)   \n",
    "    world.wait_for_tick()  #to know if the player exist in the world \n",
    "\n",
    "    control = carla.WalkerControl()\n",
    "    control.speed = 0.9\n",
    "    control.direction.y = 0\n",
    "    control.direction.x = 1\n",
    "    control.direction.z = 0\n",
    "    actor.apply_control(control)\n",
    "    time.sleep(1)\n",
    "\n",
    "    # boolean operation 1 for jump and 0 for not to jump\n",
    "    control.jump = 0\n",
    "    actor.apply_control(control)\n",
    "    time.sleep(1)\n",
    "\n",
    "    actor.apply_control(control)\n",
    "    time.sleep(1)\n",
    "\n",
    "    \n",
    "\n"
   ]
  },
  {
   "cell_type": "code",
   "execution_count": null,
   "metadata": {},
   "outputs": [],
   "source": [
    "def spawn_pedestrian_freePosition(self, distance_x, distance_y, actor_speed, actor_direction_x, actor_direction_y):\n",
    "    transform = carla.Transform(self.get_transform().transform(carla.Location(x = distance_x, y = distance_y, z = 1)))\n",
    "    spawn_pedestrian(transform, actor_speed, actor_direction_x, actor_direction_y)\n",
    "\n",
    "\n",
    "# Die Methode ist wirklich zuständig für das Spawnen des Fußgängers. Man kann die Geschwindigkeit und die Richtung ändern.\n",
    "def spawn_pedestrian(transform, actor_speed, actor_direction_x, actor_direction_y):\n",
    "    bp_walker = world.get_blueprint_library().filter('walker.pedestrian.*')\n",
    "\n",
    "    walker_object = random.choice(bp_walker)\n",
    "    actor = world.try_spawn_actor(walker_object, transform)   \n",
    "    world.wait_for_tick()  #to know if the player exist in the world \n",
    "\n",
    "    control = carla.WalkerControl()\n",
    "    control.speed = actor_speed\n",
    "    control.direction.x = actor_direction_x\n",
    "    control.direction.y = actor_direction_y\n",
    "    control.direction.z = 0\n",
    "    actor.apply_control(control)\n",
    "    time.sleep(1)\n",
    "\n",
    "    # boolean operation 1 for jump and 0 for not to jump\n",
    "    control.jump = 0\n",
    "    actor.apply_control(control)\n",
    "    time.sleep(1)\n",
    "\n",
    "    actor.apply_control(control)\n",
    "    time.sleep(1)    "
   ]
  },
  {
   "cell_type": "code",
   "execution_count": null,
   "metadata": {},
   "outputs": [],
   "source": [
    "#Hier werden die Bilder der Kamera in dem Ordner \"outSzenario02\" gespeichert\n",
    "camera.listen(lambda image: image.save_to_disk('outSzenario02/%06d.png' % image.frame))"
   ]
  },
  {
   "cell_type": "code",
   "execution_count": null,
   "metadata": {},
   "outputs": [],
   "source": [
    "# Set traffic in motion\n",
    "for vehicle in world.get_actors().filter('*vehicle*'): \n",
    "    vehicle.set_autopilot(True) "
   ]
  },
  {
   "cell_type": "code",
   "execution_count": null,
   "metadata": {},
   "outputs": [],
   "source": [
    "#Hier spawnen wir die 4 Fußgänger\n",
    "spawn_pedestrian_freePosition(ego_vehicle, 12, 4, 0.9, 0, 1)\n",
    "spawn_pedestrian_freePosition(ego_vehicle, 15, -7,0.9, 0, -1)\n",
    "time.sleep(0.5)\n",
    "spawn_pedestrian_freePosition(ego_vehicle, 11, 4, 2, 0, 1)\n",
    "time.sleep(0.4)\n",
    "spawn_pedestrian_freePosition(ego_vehicle, 40, 4, 0.4, 0, 1)"
   ]
  }
 ],
 "metadata": {
  "kernelspec": {
   "display_name": "Python 3",
   "language": "python",
   "name": "python3"
  },
  "language_info": {
   "codemirror_mode": {
    "name": "ipython",
    "version": 3
   },
   "file_extension": ".py",
   "mimetype": "text/x-python",
   "name": "python",
   "nbconvert_exporter": "python",
   "pygments_lexer": "ipython3",
   "version": "3.8.10 (default, Nov 14 2022, 12:59:47) \n[GCC 9.4.0]"
  },
  "orig_nbformat": 4,
  "vscode": {
   "interpreter": {
    "hash": "e7370f93d1d0cde622a1f8e1c04877d8463912d04d973331ad4851f04de6915a"
   }
  }
 },
 "nbformat": 4,
 "nbformat_minor": 2
}
